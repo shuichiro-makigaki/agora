{
 "cells": [
  {
   "cell_type": "code",
   "execution_count": 1,
   "metadata": {},
   "outputs": [
    {
     "data": {
      "text/plain": [
       "[('d.58.7', 74),\n",
       " ('g.37.1', 59),\n",
       " ('a.4.1', 57),\n",
       " ('a.4.5', 55),\n",
       " ('b.1.2', 53),\n",
       " ('g.39.1', 47),\n",
       " ('b.1.1', 46),\n",
       " ('c.47.1', 44),\n",
       " ('b.36.1', 44),\n",
       " ('c.37.1', 37),\n",
       " ('d.15.1', 37),\n",
       " ('b.34.2', 35),\n",
       " ('b.40.4', 30),\n",
       " ('b.55.1', 28),\n",
       " ('c.94.1', 27),\n",
       " ('a.5.2', 24),\n",
       " ('c.66.1', 23),\n",
       " ('g.44.1', 23),\n",
       " ('c.108.1', 23),\n",
       " ('c.23.1', 22),\n",
       " ('a.39.1', 22),\n",
       " ('c.2.1', 20),\n",
       " ('d.51.1', 20),\n",
       " ('d.17.4', 18),\n",
       " ('c.93.1', 18),\n",
       " ('b.1.18', 17),\n",
       " ('g.3.6', 16),\n",
       " ('c.1.8', 16),\n",
       " ('d.108.1', 16),\n",
       " ('g.50.1', 15)]"
      ]
     },
     "metadata": {},
     "output_type": "display_data"
    }
   ],
   "source": [
    "from IPython.display import display\n",
    "from Bio import SeqIO\n",
    "\n",
    "\n",
    "count = {}\n",
    "for record in SeqIO.parse('data/hh_scop40.fasta', 'fasta'):\n",
    "    sccs = record.description.split()[1]\n",
    "    sf = '.'.join(sccs.split('.')[:3])\n",
    "    if sf in count:\n",
    "        count[sf] += 1\n",
    "    else:\n",
    "        count[sf] = 1\n",
    "count = list(count.items())\n",
    "test_data = sorted(count, key=lambda _: _[1], reverse=True)[:30]\n",
    "display(test_data)\n",
    "test_data = [_[0] for _ in test_data]"
   ]
  },
  {
   "cell_type": "code",
   "execution_count": 2,
   "metadata": {
    "ExecuteTime": {
     "end_time": "2019-01-12T14:05:51.004244Z",
     "start_time": "2019-01-12T13:17:42.650565Z"
    }
   },
   "outputs": [
    {
     "data": {
      "application/vnd.jupyter.widget-view+json": {
       "model_id": "2a2b36715fb540858f19391eca0f4b71",
       "version_major": 2,
       "version_minor": 0
      },
      "text/plain": [
       "HBox(children=(IntProgress(value=0, max=30), HTML(value='')))"
      ]
     },
     "metadata": {},
     "output_type": "display_data"
    },
    {
     "name": "stdout",
     "output_type": "stream",
     "text": [
      "\n"
     ]
    },
    {
     "data": {
      "application/vnd.jupyter.widget-view+json": {
       "model_id": "c9cd4b17dd5f4710b039d1ae999a5bda",
       "version_major": 2,
       "version_minor": 0
      },
      "text/plain": [
       "HBox(children=(IntProgress(value=0, max=30), HTML(value='')))"
      ]
     },
     "metadata": {},
     "output_type": "display_data"
    },
    {
     "name": "stdout",
     "output_type": "stream",
     "text": [
      "\n"
     ]
    }
   ],
   "source": [
    "import os\n",
    "from time import sleep\n",
    "from pathlib import Path\n",
    "\n",
    "import docker\n",
    "from tqdm import tqdm_notebook as tqdm\n",
    "from Bio import SeqIO\n",
    "import numpy as np\n",
    "\n",
    "\n",
    "def get_hh_scop40_hie():\n",
    "    hie = {}\n",
    "    for record in SeqIO.parse('data/hh_scop40.fasta', 'fasta'):\n",
    "        sf = '.'.join(record.description.split()[1].split('.')[:3])\n",
    "        hie.setdefault(sf, [])\n",
    "        hie[sf].append(record)\n",
    "    return hie\n",
    "\n",
    "client = docker.from_env()\n",
    "hh_scop40_hie = get_hh_scop40_hie()\n",
    "\n",
    "for sf_sccs in tqdm(test_data):\n",
    "    for domain in hh_scop40_hie[sf_sccs]:\n",
    "        if Path(f'data/hh_scop40/{domain.id}.a3m').exists():\n",
    "            continue\n",
    "        if not Path(f'data/hh_scop40/{domain.id}.fasta').exists():\n",
    "            SeqIO.write(domain, f'data/hh_scop40/{domain.id}.fasta', 'fasta')\n",
    "        client.containers.run(\n",
    "            'makisyu/hhsuite',\n",
    "            f'hhblits -i data/hh_scop40/{domain.id}.fasta -d /DB/uniclust30_2018_08 -oa3m data/hh_scop40/{domain.id}.a3m -cpu {os.cpu_count()} -o /dev/null -n 3',\n",
    "            remove=True, user=f'{os.getuid()}:{os.getgid()}',\n",
    "            volumes={os.getcwd(): {'bind': '/WORK', 'mode': 'rw'}, '/data/DB/hhsuitedb': {'bind': '/DB', 'mode': 'ro'}}\n",
    "        )\n",
    "        sleep(1)\n",
    "\n",
    "results = {}\n",
    "for sf_sccs in tqdm(test_data):\n",
    "    r = {}\n",
    "    for domain in hh_scop40_hie[sf_sccs]:\n",
    "        client.containers.run(\n",
    "            'makisyu/hhsuite',\n",
    "            f'hhsearch -p 0 -i data/hh_scop40/{domain.id}.a3m -d /DB/scop40 -cpu {os.cpu_count()} -o tmp.hhr',\n",
    "            remove=True, user=f'{os.getuid()}:{os.getgid()}',\n",
    "            volumes={os.getcwd(): {'bind': '/WORK','mode': 'rw'}, '/data/DB/hhsuitedb': {'bind': '/DB','mode': 'ro'}}\n",
    "        )\n",
    "        sleep(1)\n",
    "        r[domain.id]= Path('tmp.hhr').read_text()\n",
    "    results[sf_sccs] = r\n",
    "np.save('data/hhsearch_hh_scop40.npy', np.array(results))"
   ]
  }
 ],
 "metadata": {
  "kernelspec": {
   "display_name": "Python 3",
   "language": "python",
   "name": "python3"
  },
  "language_info": {
   "codemirror_mode": {
    "name": "ipython",
    "version": 3
   },
   "file_extension": ".py",
   "mimetype": "text/x-python",
   "name": "python",
   "nbconvert_exporter": "python",
   "pygments_lexer": "ipython3",
   "version": "3.6.9"
  },
  "widgets": {
   "application/vnd.jupyter.widget-state+json": {
    "state": {},
    "version_major": 2,
    "version_minor": 0
   }
  }
 },
 "nbformat": 4,
 "nbformat_minor": 4
}
