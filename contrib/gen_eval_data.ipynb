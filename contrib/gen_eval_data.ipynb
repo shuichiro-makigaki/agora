{
 "cells": [
  {
   "cell_type": "code",
   "execution_count": 1,
   "metadata": {},
   "outputs": [],
   "source": [
    "from pathlib import Path\n",
    "import random\n",
    "\n",
    "import numpy as np\n",
    "import pandas\n",
    "from sklearn import metrics\n",
    "from Bio import SeqIO\n",
    "from matplotlib import pyplot\n",
    "import seaborn\n",
    "\n",
    "\n",
    "def get_hie(seq_index):\n",
    "    hie = {}\n",
    "    for name in seq_index:\n",
    "        record = seq_index[name]\n",
    "        sf = '.'.join(record.description.split()[1].split('.')[:3])\n",
    "        hie.setdefault(sf, [])\n",
    "        hie[sf].append(record)\n",
    "    return hie\n",
    "\n",
    "\n",
    "scop95_idx = SeqIO.index('data/scop/astral-scopedom-seqres-gd-sel-gs-bib-95-2.07.fa', 'fasta')\n",
    "scop95_hie = get_hie(scop95_idx)\n",
    "scop100_idx = SeqIO.index('data/scop/astral-scopedom-seqres-gd-all-2.07-stable.fa', 'fasta')\n",
    "scop100_hie = get_hie(scop100_idx)\n",
    "deltablast_d = np.load('data/delta_scop95.npy', allow_pickle=True).item()"
   ]
  },
  {
   "cell_type": "markdown",
   "metadata": {},
   "source": [
    "実行すると評価データが書き換わるので注意"
   ]
  },
  {
   "cell_type": "raw",
   "metadata": {},
   "source": [
    "test_sf = sorted([_ for _ in scop40_hie], key=lambda x: len(scop40_hie[x]), reverse=True)[:100]\n",
    "test_data = [random.choice(scop40_hie[_]) for _ in test_sf]\n",
    "if not Path('evaluation.fasta').exists():\n",
    "    SeqIO.write(test_data, 'evaluation.fasta', 'fasta')"
   ]
  },
  {
   "cell_type": "code",
   "execution_count": 12,
   "metadata": {},
   "outputs": [
    {
     "name": "stdout",
     "output_type": "stream",
     "text": [
      "\\begin{tabular}{llllllll}\n",
      "\\toprule\n",
      "              id1 &               sf1 &               id2 &               sf2 &               id3 &               sf3 &               id4 &               sf4 \\\\\n",
      "\\midrule\n",
      " \\texttt{d1xg0c_} &    \\texttt{a.1.1} &  \\texttt{d1jjcb3} &   \\texttt{b.40.4} &  \\texttt{d2c42a1} &   \\texttt{c.36.1} &  \\texttt{d4c2va_} &  \\texttt{d.144.1} \\\\\n",
      " \\texttt{d3g0oa2} &  \\texttt{a.100.1} &  \\texttt{d1w9aa_} &   \\texttt{b.45.1} &  \\texttt{d1mkya1} &   \\texttt{c.37.1} &  \\texttt{d1k8rb_} &   \\texttt{d.15.1} \\\\\n",
      " \\texttt{d2zwua_} &  \\texttt{a.104.1} &  \\texttt{d4k60a_} &   \\texttt{b.47.1} &  \\texttt{d1ywfa1} &   \\texttt{c.45.1} &  \\texttt{d5le5a_} &  \\texttt{d.153.1} \\\\\n",
      " \\texttt{d3vyca_} &  \\texttt{a.118.1} &  \\texttt{d1mkea1} &   \\texttt{b.55.1} &  \\texttt{d3l9va_} &   \\texttt{c.47.1} &  \\texttt{d2e7ya_} &  \\texttt{d.157.1} \\\\\n",
      " \\texttt{d5j90a_} &  \\texttt{a.118.8} &  \\texttt{d2ux6a_} &    \\texttt{b.6.1} &  \\texttt{d1j24a_} &   \\texttt{c.52.1} &  \\texttt{d2nana_} &  \\texttt{d.169.1} \\\\\n",
      " \\texttt{d2xpwa2} &  \\texttt{a.121.1} &  \\texttt{d2ra6a_} &   \\texttt{b.60.1} &  \\texttt{d3mdqa2} &   \\texttt{c.55.1} &  \\texttt{d1tp6a_} &   \\texttt{d.17.4} \\\\\n",
      " \\texttt{d3b3hb_} &   \\texttt{a.25.1} &  \\texttt{d1e43a1} &   \\texttt{b.71.1} &  \\texttt{d1cz9a_} &   \\texttt{c.55.3} &  \\texttt{d2io8a2} &    \\texttt{d.3.1} \\\\\n",
      " \\texttt{d2d48a_} &   \\texttt{a.26.1} &  \\texttt{d5vf5a1} &   \\texttt{b.82.1} &  \\texttt{d1y0ya3} &   \\texttt{c.56.5} &  \\texttt{d1kw3b1} &   \\texttt{d.32.1} \\\\\n",
      " \\texttt{d1e29a_} &    \\texttt{a.3.1} &  \\texttt{d1gp6a_} &   \\texttt{b.82.2} &  \\texttt{d1hgxa_} &   \\texttt{c.61.1} &  \\texttt{d2nyca1} &   \\texttt{d.37.1} \\\\\n",
      " \\texttt{d2bnma1} &   \\texttt{a.35.1} &  \\texttt{d1wa3a_} &   \\texttt{c.1.10} &  \\texttt{d2g1pa_} &   \\texttt{c.66.1} &  \\texttt{d4a0yb_} &   \\texttt{d.38.1} \\\\\n",
      " \\texttt{d1qlsa_} &   \\texttt{a.39.1} &  \\texttt{d4j1oa2} &   \\texttt{c.1.11} &  \\texttt{d3f0ha1} &   \\texttt{c.67.1} &  \\texttt{d3toya1} &   \\texttt{d.54.1} \\\\\n",
      " \\texttt{d2oi8a1} &    \\texttt{a.4.1} &  \\texttt{d1geqa_} &    \\texttt{c.1.2} &  \\texttt{d1jyka1} &   \\texttt{c.68.1} &  \\texttt{d1tdja2} &  \\texttt{d.58.18} \\\\\n",
      " \\texttt{d4ejoa1} &    \\texttt{a.4.5} &  \\texttt{d4ddea1} &    \\texttt{c.1.8} &  \\texttt{d1qe3a_} &   \\texttt{c.69.1} &  \\texttt{d1tr0a_} &   \\texttt{d.58.4} \\\\\n",
      " \\texttt{d3q9va_} &    \\texttt{a.4.6} &  \\texttt{d2vhla2} &    \\texttt{c.1.9} &  \\texttt{d5c40a1} &   \\texttt{c.72.1} &  \\texttt{d2pe8a1} &   \\texttt{d.58.7} \\\\\n",
      " \\texttt{d1v2aa1} &   \\texttt{a.45.1} &  \\texttt{d1jl5a_} &   \\texttt{c.10.2} &  \\texttt{d4dnga_} &   \\texttt{c.82.1} &  \\texttt{d1q0qa3} &   \\texttt{d.81.1} \\\\\n",
      " \\texttt{d4pc3c1} &    \\texttt{a.5.2} &  \\texttt{d2ho4a_} &  \\texttt{c.108.1} &  \\texttt{d5uofa1} &   \\texttt{c.87.1} &  \\texttt{d1f5va_} &   \\texttt{d.90.1} \\\\\n",
      " \\texttt{d3edfa1} &   \\texttt{b.1.18} &  \\texttt{d4eu9a1} &  \\texttt{c.124.1} &  \\texttt{d3u7qa_} &   \\texttt{c.92.2} &  \\texttt{d2fpqa1} &   \\texttt{d.92.1} \\\\\n",
      " \\texttt{d3r4da2} &    \\texttt{b.1.1} &  \\texttt{d4qfea1} &   \\texttt{c.14.1} &  \\texttt{d4q6ba_} &   \\texttt{c.93.1} &  \\texttt{d2ysxa1} &   \\texttt{d.93.1} \\\\\n",
      " \\texttt{d2gysa4} &    \\texttt{b.1.2} &  \\texttt{d1xu9a1} &    \\texttt{c.2.1} &  \\texttt{d2fyia1} &   \\texttt{c.94.1} &  \\texttt{d1tvfa2} &    \\texttt{e.3.1} \\\\\n",
      " \\texttt{d1ddla_} &  \\texttt{b.121.4} &  \\texttt{d1n57a_} &  \\texttt{c.23.16} &  \\texttt{d4yuca1} &   \\texttt{c.95.1} &  \\texttt{d1quba1} &   \\texttt{g.18.1} \\\\\n",
      " \\texttt{d1zboa1} &  \\texttt{b.122.1} &  \\texttt{d3cu5a1} &   \\texttt{c.23.1} &  \\texttt{d2fiaa1} &  \\texttt{d.108.1} &  \\texttt{d2bz6l_} &   \\texttt{g.3.11} \\\\\n",
      " \\texttt{d2bbaa1} &   \\texttt{b.18.1} &  \\texttt{d5ljla1} &   \\texttt{c.23.5} &  \\texttt{d5c7qa_} &  \\texttt{d.113.1} &  \\texttt{d1pvza_} &    \\texttt{g.3.7} \\\\\n",
      " \\texttt{d1j1ta_} &   \\texttt{b.29.1} &  \\texttt{d1h3fa1} &   \\texttt{c.26.1} &  \\texttt{d2pcsa1} &  \\texttt{d.129.3} &  \\texttt{d2lcea1} &   \\texttt{g.37.1} \\\\\n",
      " \\texttt{d1wyxa_} &   \\texttt{b.34.2} &  \\texttt{d1zuna1} &   \\texttt{c.26.2} &  \\texttt{d1rwza2} &  \\texttt{d.131.1} &  \\texttt{d1rutx3} &   \\texttt{g.39.1} \\\\\n",
      " \\texttt{d5fb8c_} &   \\texttt{b.36.1} &  \\texttt{d1v59a1} &    \\texttt{c.3.1} &  \\texttt{d1z0wa_} &   \\texttt{d.14.1} &  \\texttt{d1weoa1} &   \\texttt{g.44.1} \\\\\n",
      "\\bottomrule\n",
      "\\end{tabular}\n",
      "\n"
     ]
    }
   ],
   "source": [
    "from Bio import SeqIO\n",
    "import pandas\n",
    "\n",
    "ids = [{'id': '\\texttt{'+_.id+'}', 'sf': '\\texttt{'+'.'.join(_.description.split()[1].split('.')[:3])+'}'}\n",
    "       for _ in SeqIO.parse('evaluation.fasta', format='fasta')]\n",
    "ids = sorted(ids, key=lambda _: _['sf'])\n",
    "result = {\n",
    "    'id1': [_['id'] for _ in ids[:25]],\n",
    "    'sf1': [_['sf'] for _ in ids[:25]],\n",
    "    'id2': [_['id'] for _ in ids[25:50]],\n",
    "    'sf2': [_['sf'] for _ in ids[25:50]],\n",
    "    'id3': [_['id'] for _ in ids[50:75]],\n",
    "    'sf3': [_['sf'] for _ in ids[50:75]],\n",
    "    'id4': [_['id'] for _ in ids[75:100]],\n",
    "    'sf4': [_['sf'] for _ in ids[75:100]],\n",
    "}\n",
    "print(pandas.DataFrame(result).to_latex(index=False, escape=False))"
   ]
  }
 ],
 "metadata": {
  "kernelspec": {
   "display_name": "Python 3",
   "language": "python",
   "name": "python3"
  },
  "language_info": {
   "codemirror_mode": {
    "name": "ipython",
    "version": 3
   },
   "file_extension": ".py",
   "mimetype": "text/x-python",
   "name": "python",
   "nbconvert_exporter": "python",
   "pygments_lexer": "ipython3",
   "version": "3.6.9"
  },
  "widgets": {
   "application/vnd.jupyter.widget-state+json": {
    "state": {},
    "version_major": 2,
    "version_minor": 0
   }
  }
 },
 "nbformat": 4,
 "nbformat_minor": 4
}
